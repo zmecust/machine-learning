{
 "cells": [
  {
   "cell_type": "code",
   "execution_count": 19,
   "metadata": {},
   "outputs": [
    {
     "name": "stdout",
     "output_type": "stream",
     "text": [
      "Checking whether there is an H2O instance running at http://localhost:54321. connected.\n"
     ]
    },
    {
     "data": {
      "text/html": [
       "<div style=\"overflow:auto\"><table style=\"width:50%\"><tr><td>H2O cluster uptime:</td>\n",
       "<td>8 hours 26 mins</td></tr>\n",
       "<tr><td>H2O cluster timezone:</td>\n",
       "<td>Asia/Shanghai</td></tr>\n",
       "<tr><td>H2O data parsing timezone:</td>\n",
       "<td>UTC</td></tr>\n",
       "<tr><td>H2O cluster version:</td>\n",
       "<td>3.22.1.1</td></tr>\n",
       "<tr><td>H2O cluster version age:</td>\n",
       "<td>22 days </td></tr>\n",
       "<tr><td>H2O cluster name:</td>\n",
       "<td>H2O_from_python_zm_5vtixz</td></tr>\n",
       "<tr><td>H2O cluster total nodes:</td>\n",
       "<td>1</td></tr>\n",
       "<tr><td>H2O cluster free memory:</td>\n",
       "<td>31.96 Gb</td></tr>\n",
       "<tr><td>H2O cluster total cores:</td>\n",
       "<td>16</td></tr>\n",
       "<tr><td>H2O cluster allowed cores:</td>\n",
       "<td>16</td></tr>\n",
       "<tr><td>H2O cluster status:</td>\n",
       "<td>locked, healthy</td></tr>\n",
       "<tr><td>H2O connection url:</td>\n",
       "<td>http://localhost:54321</td></tr>\n",
       "<tr><td>H2O connection proxy:</td>\n",
       "<td>None</td></tr>\n",
       "<tr><td>H2O internal security:</td>\n",
       "<td>False</td></tr>\n",
       "<tr><td>H2O API Extensions:</td>\n",
       "<td>Algos, AutoML, Core V3, Core V4</td></tr>\n",
       "<tr><td>Python version:</td>\n",
       "<td>3.6.2 final</td></tr></table></div>"
      ],
      "text/plain": [
       "--------------------------  -------------------------------\n",
       "H2O cluster uptime:         8 hours 26 mins\n",
       "H2O cluster timezone:       Asia/Shanghai\n",
       "H2O data parsing timezone:  UTC\n",
       "H2O cluster version:        3.22.1.1\n",
       "H2O cluster version age:    22 days\n",
       "H2O cluster name:           H2O_from_python_zm_5vtixz\n",
       "H2O cluster total nodes:    1\n",
       "H2O cluster free memory:    31.96 Gb\n",
       "H2O cluster total cores:    16\n",
       "H2O cluster allowed cores:  16\n",
       "H2O cluster status:         locked, healthy\n",
       "H2O connection url:         http://localhost:54321\n",
       "H2O connection proxy:\n",
       "H2O internal security:      False\n",
       "H2O API Extensions:         Algos, AutoML, Core V3, Core V4\n",
       "Python version:             3.6.2 final\n",
       "--------------------------  -------------------------------"
      ]
     },
     "metadata": {},
     "output_type": "display_data"
    },
    {
     "name": "stdout",
     "output_type": "stream",
     "text": [
      "Parse progress: |█████████████████████████████████████████████████████████| 100%\n",
      "Parse progress: |█████████████████████████████████████████████████████████| 100%\n",
      "Parse progress: |█████████████████████████████████████████████████████████| 100%\n",
      "AutoML progress: |████████████████████████████████████████████████████████| 100%\n"
     ]
    },
    {
     "data": {
      "text/html": [
       "<table>\n",
       "<thead>\n",
       "<tr><th>model_id                                           </th><th style=\"text-align: right;\">  mean_residual_deviance</th><th style=\"text-align: right;\">     rmse</th><th style=\"text-align: right;\">        mse</th><th style=\"text-align: right;\">       mae</th><th style=\"text-align: right;\">     rmsle</th></tr>\n",
       "</thead>\n",
       "<tbody>\n",
       "<tr><td>StackedEnsemble_AllModels_AutoML_20190119_210402   </td><td style=\"text-align: right;\">             0.000123126</td><td style=\"text-align: right;\">0.0110962</td><td style=\"text-align: right;\">0.000123126</td><td style=\"text-align: right;\">0.008209  </td><td style=\"text-align: right;\">0.00575758</td></tr>\n",
       "<tr><td>StackedEnsemble_BestOfFamily_AutoML_20190119_210402</td><td style=\"text-align: right;\">             0.00012444 </td><td style=\"text-align: right;\">0.0111553</td><td style=\"text-align: right;\">0.00012444 </td><td style=\"text-align: right;\">0.00825649</td><td style=\"text-align: right;\">0.00578819</td></tr>\n",
       "<tr><td>GBM_2_AutoML_20190119_210402                       </td><td style=\"text-align: right;\">             0.000125918</td><td style=\"text-align: right;\">0.0112213</td><td style=\"text-align: right;\">0.000125918</td><td style=\"text-align: right;\">0.00829388</td><td style=\"text-align: right;\">0.00582269</td></tr>\n",
       "<tr><td>GBM_grid_1_AutoML_20190119_210402_model_3          </td><td style=\"text-align: right;\">             0.000125969</td><td style=\"text-align: right;\">0.0112236</td><td style=\"text-align: right;\">0.000125969</td><td style=\"text-align: right;\">0.00834105</td><td style=\"text-align: right;\">0.00582363</td></tr>\n",
       "<tr><td>GBM_3_AutoML_20190119_210402                       </td><td style=\"text-align: right;\">             0.000126391</td><td style=\"text-align: right;\">0.0112424</td><td style=\"text-align: right;\">0.000126391</td><td style=\"text-align: right;\">0.00832262</td><td style=\"text-align: right;\">0.00583268</td></tr>\n",
       "<tr><td>GBM_4_AutoML_20190119_210402                       </td><td style=\"text-align: right;\">             0.000126753</td><td style=\"text-align: right;\">0.0112585</td><td style=\"text-align: right;\">0.000126753</td><td style=\"text-align: right;\">0.00832732</td><td style=\"text-align: right;\">0.00584088</td></tr>\n",
       "<tr><td>GBM_1_AutoML_20190119_210402                       </td><td style=\"text-align: right;\">             0.000132827</td><td style=\"text-align: right;\">0.011525 </td><td style=\"text-align: right;\">0.000132827</td><td style=\"text-align: right;\">0.00853395</td><td style=\"text-align: right;\">0.0059823 </td></tr>\n",
       "<tr><td>XRT_1_AutoML_20190119_210402                       </td><td style=\"text-align: right;\">             0.000139521</td><td style=\"text-align: right;\">0.0118119</td><td style=\"text-align: right;\">0.000139521</td><td style=\"text-align: right;\">0.00860369</td><td style=\"text-align: right;\">0.00613015</td></tr>\n",
       "<tr><td>DRF_1_AutoML_20190119_210402                       </td><td style=\"text-align: right;\">             0.000140455</td><td style=\"text-align: right;\">0.0118514</td><td style=\"text-align: right;\">0.000140455</td><td style=\"text-align: right;\">0.00867493</td><td style=\"text-align: right;\">0.00615187</td></tr>\n",
       "<tr><td>GBM_grid_1_AutoML_20190119_210402_model_2          </td><td style=\"text-align: right;\">             0.000155885</td><td style=\"text-align: right;\">0.0124854</td><td style=\"text-align: right;\">0.000155885</td><td style=\"text-align: right;\">0.0095073 </td><td style=\"text-align: right;\">0.00648334</td></tr>\n",
       "</tbody>\n",
       "</table>"
      ]
     },
     "metadata": {},
     "output_type": "display_data"
    },
    {
     "name": "stdout",
     "output_type": "stream",
     "text": [
      "\n",
      "stackedensemble prediction progress: |████████████████████████████████████| 100%\n",
      "train mse error: 5.14655512502549e-05\n",
      "stackedensemble prediction progress: |████████████████████████████████████| 100%\n"
     ]
    }
   ],
   "source": [
    "import os\n",
    "import h2o\n",
    "import pandas as pd\n",
    "from h2o.automl import H2OAutoML\n",
    "from sklearn.metrics import mean_squared_error\n",
    "\n",
    "h2o.init(max_mem_size_GB=32)\n",
    "\n",
    "BASE_PATH = os.path.join('./datasets')\n",
    "ETLDATA_PATH = os.path.join(BASE_PATH, 'jinnan')\n",
    "\n",
    "\n",
    "def get_data():\n",
    "    train_data = h2o.upload_file('../datasets/jinnan/train_feature.csv')\n",
    "    \n",
    "    test_data = h2o.upload_file('../datasets/jinnan/test_feature.csv')\n",
    "\n",
    "    test_data_sample = h2o.upload_file('../datasets/jinnan/test_submit.csv')\n",
    "\n",
    "    return train_data, test_data, test_data_sample\n",
    "\n",
    "\n",
    "def auto_ml():\n",
    "    train_data, test_data, test_data_sample = get_data()\n",
    "\n",
    "    remove_columns = ['C1261']\n",
    "    features_columns = [column for column in train_data.columns if column not in remove_columns]\n",
    "\n",
    "    test_sample_ids = test_data_sample['C1'].as_data_frame().values.flatten()\n",
    "    y_labels = train_data['C1261'].as_data_frame().values.flatten()\n",
    "\n",
    "    aml = H2OAutoML(max_models=15, seed=2019, max_runtime_secs=7200)\n",
    "    aml.train(x=features_columns, y='C1261', training_frame=train_data)\n",
    "\n",
    "    lb = aml.leaderboard\n",
    "    print(lb.head())\n",
    "\n",
    "    train_data = train_data[features_columns]\n",
    "    y_train = aml.predict(train_data).as_data_frame().values.flatten()\n",
    "    mse_error = mean_squared_error(y_labels, y_train)\n",
    "    print(f'train mse error: {mse_error}')\n",
    "\n",
    "    test_data = test_data[features_columns]\n",
    "    automl_predictions = aml.predict(test_data).as_data_frame().values.flatten()\n",
    "\n",
    "    df = pd.DataFrame({'sample_id': test_sample_ids,\n",
    "                       'automl_rate': automl_predictions})\n",
    "    df.to_csv('./submittion_automl.csv', index=False, header=None)\n",
    "\n",
    "auto_ml()"
   ]
  },
  {
   "cell_type": "code",
   "execution_count": 20,
   "metadata": {},
   "outputs": [],
   "source": [
    "def get_data(name):\n",
    "    assert name in ['automl', 'tree']\n",
    "\n",
    "    data_name = f'submittion_{name}.csv'\n",
    "    columns = ['sample_id', f'{name}_rate']\n",
    "    df = pd.read_csv(data_name, header=-1, names=columns)\n",
    "\n",
    "    return df\n",
    "\n",
    "\n",
    "def blending_main(automl_rate=0.6):\n",
    "    tree_rate = 1 - automl_rate\n",
    "\n",
    "    automl_sub = get_data(name='automl')\n",
    "    automl_name = automl_sub.rename(columns={\"sample_id\": \"automl_rate_1\", \"automl_rate\": \"sample_id\"})\n",
    "\n",
    "    tree_sub = get_data(name='tree')\n",
    "\n",
    "    sub = pd.merge(automl_name, tree_sub, on='sample_id')\n",
    "\n",
    "    sub['rate'] = sub['automl_rate_1'] * automl_rate + sub['tree_rate'] * tree_rate\n",
    "    sub = sub.drop(['automl_rate_1', 'tree_rate'], axis=1)\n",
    "    sub['rate'] = sub['rate'].apply(lambda x:round(x, 3))\n",
    "    sub.to_csv('submittion.csv', header=False, index=False)\n",
    "\n",
    "blending_main()"
   ]
  }
 ],
 "metadata": {
  "kernelspec": {
   "display_name": "Python 3",
   "language": "python",
   "name": "python3"
  },
  "language_info": {
   "codemirror_mode": {
    "name": "ipython",
    "version": 3
   },
   "file_extension": ".py",
   "mimetype": "text/x-python",
   "name": "python",
   "nbconvert_exporter": "python",
   "pygments_lexer": "ipython3",
   "version": "3.6.2"
  }
 },
 "nbformat": 4,
 "nbformat_minor": 2
}
